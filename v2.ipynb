{
  "nbformat": 4,
  "nbformat_minor": 0,
  "metadata": {
    "colab": {
      "name": "Copy of Untitled3.ipynb",
      "provenance": [],
      "collapsed_sections": [],
      "toc_visible": true,
      "authorship_tag": "ABX9TyPqKC2RyeUz8iSZfSHjINOn",
      "include_colab_link": true
    },
    "kernelspec": {
      "name": "python3",
      "display_name": "Python 3"
    },
    "accelerator": "GPU"
  },
  "cells": [
    {
      "cell_type": "markdown",
      "metadata": {
        "id": "view-in-github",
        "colab_type": "text"
      },
      "source": [
        "<a href=\"https://colab.research.google.com/github/RedDawe/SMS_spam_classification/blob/master/v2.ipynb\" target=\"_parent\"><img src=\"https://colab.research.google.com/assets/colab-badge.svg\" alt=\"Open In Colab\"/></a>"
      ]
    },
    {
      "cell_type": "code",
      "metadata": {
        "id": "iLeCHhpvSURy",
        "colab_type": "code",
        "colab": {}
      },
      "source": [
        "!pip install autocorrect"
      ],
      "execution_count": null,
      "outputs": []
    },
    {
      "cell_type": "code",
      "metadata": {
        "id": "MnkXWrkdzDLW",
        "colab_type": "code",
        "colab": {}
      },
      "source": [
        "import pandas as pd\n",
        "import numpy as np\n",
        "import tensorflow as tf\n",
        "import nltk\n",
        "from autocorrect import Speller\n",
        "import string\n",
        "import re"
      ],
      "execution_count": null,
      "outputs": []
    },
    {
      "cell_type": "code",
      "metadata": {
        "id": "in8eaAJgzv8d",
        "colab_type": "code",
        "colab": {}
      },
      "source": [
        "data = pd.read_csv('spam.csv', encoding='latin-1').drop(['Unnamed: 2', 'Unnamed: 3', 'Unnamed: 4'], axis=1)"
      ],
      "execution_count": null,
      "outputs": []
    },
    {
      "cell_type": "code",
      "metadata": {
        "id": "TcHon073z9Jg",
        "colab_type": "code",
        "colab": {
          "base_uri": "https://localhost:8080/",
          "height": 204
        },
        "outputId": "c87ef690-2535-431c-b9b0-5193c519064e"
      },
      "source": [
        "data.head()"
      ],
      "execution_count": null,
      "outputs": [
        {
          "output_type": "execute_result",
          "data": {
            "text/html": [
              "<div>\n",
              "<style scoped>\n",
              "    .dataframe tbody tr th:only-of-type {\n",
              "        vertical-align: middle;\n",
              "    }\n",
              "\n",
              "    .dataframe tbody tr th {\n",
              "        vertical-align: top;\n",
              "    }\n",
              "\n",
              "    .dataframe thead th {\n",
              "        text-align: right;\n",
              "    }\n",
              "</style>\n",
              "<table border=\"1\" class=\"dataframe\">\n",
              "  <thead>\n",
              "    <tr style=\"text-align: right;\">\n",
              "      <th></th>\n",
              "      <th>v1</th>\n",
              "      <th>v2</th>\n",
              "    </tr>\n",
              "  </thead>\n",
              "  <tbody>\n",
              "    <tr>\n",
              "      <th>0</th>\n",
              "      <td>ham</td>\n",
              "      <td>Go until jurong point, crazy.. Available only ...</td>\n",
              "    </tr>\n",
              "    <tr>\n",
              "      <th>1</th>\n",
              "      <td>ham</td>\n",
              "      <td>Ok lar... Joking wif u oni...</td>\n",
              "    </tr>\n",
              "    <tr>\n",
              "      <th>2</th>\n",
              "      <td>spam</td>\n",
              "      <td>Free entry in 2 a wkly comp to win FA Cup fina...</td>\n",
              "    </tr>\n",
              "    <tr>\n",
              "      <th>3</th>\n",
              "      <td>ham</td>\n",
              "      <td>U dun say so early hor... U c already then say...</td>\n",
              "    </tr>\n",
              "    <tr>\n",
              "      <th>4</th>\n",
              "      <td>ham</td>\n",
              "      <td>Nah I don't think he goes to usf, he lives aro...</td>\n",
              "    </tr>\n",
              "  </tbody>\n",
              "</table>\n",
              "</div>"
            ],
            "text/plain": [
              "     v1                                                 v2\n",
              "0   ham  Go until jurong point, crazy.. Available only ...\n",
              "1   ham                      Ok lar... Joking wif u oni...\n",
              "2  spam  Free entry in 2 a wkly comp to win FA Cup fina...\n",
              "3   ham  U dun say so early hor... U c already then say...\n",
              "4   ham  Nah I don't think he goes to usf, he lives aro..."
            ]
          },
          "metadata": {
            "tags": []
          },
          "execution_count": 9
        }
      ]
    },
    {
      "cell_type": "code",
      "metadata": {
        "id": "ahShd1gWPRuW",
        "colab_type": "code",
        "colab": {
          "base_uri": "https://localhost:8080/",
          "height": 68
        },
        "outputId": "da8e3868-3ba6-46bd-80da-0c8008421f4a"
      },
      "source": [
        "nltk.download('wordnet')"
      ],
      "execution_count": null,
      "outputs": [
        {
          "output_type": "stream",
          "text": [
            "[nltk_data] Downloading package wordnet to /root/nltk_data...\n",
            "[nltk_data]   Unzipping corpora/wordnet.zip.\n"
          ],
          "name": "stdout"
        },
        {
          "output_type": "execute_result",
          "data": {
            "text/plain": [
              "True"
            ]
          },
          "metadata": {
            "tags": []
          },
          "execution_count": 5
        }
      ]
    },
    {
      "cell_type": "code",
      "metadata": {
        "id": "WAa4eBPM4Ofd",
        "colab_type": "code",
        "colab": {}
      },
      "source": [
        "lemmatizer = nltk.stem.WordNetLemmatizer()\n",
        "spell = Speller(lang='en')"
      ],
      "execution_count": null,
      "outputs": []
    },
    {
      "cell_type": "code",
      "metadata": {
        "id": "es9j6fcpB37P",
        "colab_type": "code",
        "colab": {}
      },
      "source": [
        "dictionary = dict()\n",
        "dictionary['__unk__'] = 1\n",
        "last_value_used = 1"
      ],
      "execution_count": null,
      "outputs": []
    },
    {
      "cell_type": "code",
      "metadata": {
        "id": "jg9K2FRQ_pXk",
        "colab_type": "code",
        "colab": {}
      },
      "source": [
        "def process_sentence(text, fit=True):\n",
        "  global last_value_used\n",
        "\n",
        "  text = re.sub(r\"[^a-zA-Z0-9.?!:()' ]+\", \"\", text)\n",
        "  text = re.sub(':D', ' smiley_face ', text)\n",
        "  text = re.sub(':\\\\)', ' happy_face ', text) #extra whitespace cause in the datasej emojis are often written without any at all:)\n",
        "  text = re.sub(':\\\\(', ' sad_face ', text)\n",
        "\n",
        "  words = text.split()\n",
        "  lemmed = []\n",
        "  for word in words:\n",
        "    spelled = spell(word).lower()\n",
        "    lem = lemmatizer.lemmatize(spelled)\n",
        "    #lem = word.lower()\n",
        "\n",
        "    if not lem in dictionary:\n",
        "      if fit:\n",
        "        last_value_used += 1\n",
        "        dictionary[lem] = last_value_used\n",
        "\n",
        "        if len(dictionary) > 12000:\n",
        "          print('size_exceeded, we\\'re at:', len(dictionary))\n",
        "        \"\"\"\n",
        "        in python 3.8 replace with:\n",
        "          if (ln := len(dictionary)) > 12000:\n",
        "            print('size_exceeded, we\\'re at:', ln)\n",
        "        \"\"\"\n",
        "      else:\n",
        "        lem = '__unk__'\n",
        "\n",
        "    lemmed.append(dictionary[lem])\n",
        "\n",
        "  lemmed = [0]*(200-len(lemmed)) + lemmed\n",
        "\n",
        "  return lemmed"
      ],
      "execution_count": null,
      "outputs": []
    },
    {
      "cell_type": "code",
      "metadata": {
        "id": "B5mpyjmh3_lj",
        "colab_type": "code",
        "colab": {}
      },
      "source": [
        "process_sentence(\"i'm Helo:( :D, yup :) s my caar's great :D\")"
      ],
      "execution_count": null,
      "outputs": []
    },
    {
      "cell_type": "code",
      "metadata": {
        "id": "5pdHk7_u-cnR",
        "colab_type": "code",
        "colab": {
          "base_uri": "https://localhost:8080/",
          "height": 204
        },
        "outputId": "462c5eee-7898-4063-c5dc-e99aa8dc1c5b"
      },
      "source": [
        "data['v2'].iloc[:4000] = data['v2'].iloc[:4000].apply(process_sentence)\n",
        "data['v2'].iloc[4000:] = data['v2'].iloc[4000:].apply(process_sentence, fit=False)\n",
        "data.head()"
      ],
      "execution_count": null,
      "outputs": [
        {
          "output_type": "execute_result",
          "data": {
            "text/html": [
              "<div>\n",
              "<style scoped>\n",
              "    .dataframe tbody tr th:only-of-type {\n",
              "        vertical-align: middle;\n",
              "    }\n",
              "\n",
              "    .dataframe tbody tr th {\n",
              "        vertical-align: top;\n",
              "    }\n",
              "\n",
              "    .dataframe thead th {\n",
              "        text-align: right;\n",
              "    }\n",
              "</style>\n",
              "<table border=\"1\" class=\"dataframe\">\n",
              "  <thead>\n",
              "    <tr style=\"text-align: right;\">\n",
              "      <th></th>\n",
              "      <th>v1</th>\n",
              "      <th>v2</th>\n",
              "    </tr>\n",
              "  </thead>\n",
              "  <tbody>\n",
              "    <tr>\n",
              "      <th>0</th>\n",
              "      <td>ham</td>\n",
              "      <td>[0, 0, 0, 0, 0, 0, 0, 0, 0, 0, 0, 0, 0, 0, 0, ...</td>\n",
              "    </tr>\n",
              "    <tr>\n",
              "      <th>1</th>\n",
              "      <td>ham</td>\n",
              "      <td>[0, 0, 0, 0, 0, 0, 0, 0, 0, 0, 0, 0, 0, 0, 0, ...</td>\n",
              "    </tr>\n",
              "    <tr>\n",
              "      <th>2</th>\n",
              "      <td>spam</td>\n",
              "      <td>[0, 0, 0, 0, 0, 0, 0, 0, 0, 0, 0, 0, 0, 0, 0, ...</td>\n",
              "    </tr>\n",
              "    <tr>\n",
              "      <th>3</th>\n",
              "      <td>ham</td>\n",
              "      <td>[0, 0, 0, 0, 0, 0, 0, 0, 0, 0, 0, 0, 0, 0, 0, ...</td>\n",
              "    </tr>\n",
              "    <tr>\n",
              "      <th>4</th>\n",
              "      <td>ham</td>\n",
              "      <td>[0, 0, 0, 0, 0, 0, 0, 0, 0, 0, 0, 0, 0, 0, 0, ...</td>\n",
              "    </tr>\n",
              "  </tbody>\n",
              "</table>\n",
              "</div>"
            ],
            "text/plain": [
              "     v1                                                 v2\n",
              "0   ham  [0, 0, 0, 0, 0, 0, 0, 0, 0, 0, 0, 0, 0, 0, 0, ...\n",
              "1   ham  [0, 0, 0, 0, 0, 0, 0, 0, 0, 0, 0, 0, 0, 0, 0, ...\n",
              "2  spam  [0, 0, 0, 0, 0, 0, 0, 0, 0, 0, 0, 0, 0, 0, 0, ...\n",
              "3   ham  [0, 0, 0, 0, 0, 0, 0, 0, 0, 0, 0, 0, 0, 0, 0, ...\n",
              "4   ham  [0, 0, 0, 0, 0, 0, 0, 0, 0, 0, 0, 0, 0, 0, 0, ..."
            ]
          },
          "metadata": {
            "tags": []
          },
          "execution_count": 52
        }
      ]
    },
    {
      "cell_type": "code",
      "metadata": {
        "id": "8RSolLjW6IV3",
        "colab_type": "code",
        "colab": {
          "base_uri": "https://localhost:8080/",
          "height": 119
        },
        "outputId": "81ff0e52-b630-4898-bc25-13a43b6f4e77"
      },
      "source": [
        "X = data['v2']\n",
        "Y = data['v1']\n",
        "\n",
        "Y.where(Y == 'ham', 1, inplace=True)\n",
        "Y.where(Y == 1, 0, inplace= True)\n",
        "\n",
        "Y.head()"
      ],
      "execution_count": null,
      "outputs": [
        {
          "output_type": "execute_result",
          "data": {
            "text/plain": [
              "0    0\n",
              "1    0\n",
              "2    1\n",
              "3    0\n",
              "4    0\n",
              "Name: v1, dtype: object"
            ]
          },
          "metadata": {
            "tags": []
          },
          "execution_count": 10
        }
      ]
    },
    {
      "cell_type": "code",
      "metadata": {
        "id": "EosjDxCSH_NW",
        "colab_type": "code",
        "colab": {
          "base_uri": "https://localhost:8080/",
          "height": 34
        },
        "outputId": "191f0e94-06d0-4eb2-dccb-005c608fc493"
      },
      "source": [
        "X = np.array(X.tolist())\n",
        "X.shape"
      ],
      "execution_count": null,
      "outputs": [
        {
          "output_type": "execute_result",
          "data": {
            "text/plain": [
              "(5572,)"
            ]
          },
          "metadata": {
            "tags": []
          },
          "execution_count": 65
        }
      ]
    },
    {
      "cell_type": "code",
      "metadata": {
        "id": "0lcXsziR8u6e",
        "colab_type": "code",
        "colab": {}
      },
      "source": [
        "Y_test = np.array(Y[5000:], dtype=np.int32)\n",
        "Y_cv = np.array(Y[4000:5000], dtype=np.int32)\n",
        "Y_train = np.array(Y[:4000], dtype=np.int32)\n",
        "\n",
        "X_test = X[5000:]\n",
        "X_cv = X[4000:5000]\n",
        "X_train = X[:4000]"
      ],
      "execution_count": null,
      "outputs": []
    },
    {
      "cell_type": "code",
      "metadata": {
        "id": "JeJ6EsidLDxe",
        "colab_type": "code",
        "colab": {
          "base_uri": "https://localhost:8080/",
          "height": 34
        },
        "outputId": "4c2b358b-f8fd-4163-8ef3-488d62ca145b"
      },
      "source": [
        "spam_perc = np.sum(Y_train)/Y_train.shape[0]*100\n",
        "print(spam_perc)\n",
        "\n",
        "weight_dict = {\n",
        "    0: 1,\n",
        "    1: 2\n",
        "}"
      ],
      "execution_count": null,
      "outputs": [
        {
          "output_type": "stream",
          "text": [
            "13.375\n"
          ],
          "name": "stdout"
        }
      ]
    },
    {
      "cell_type": "code",
      "metadata": {
        "id": "YYkPfCOe5t7r",
        "colab_type": "code",
        "colab": {}
      },
      "source": [
        "tokenizer = tf.keras.preprocessing.text.Tokenizer(num_words=12000)\n",
        "tokenizer.fit_on_texts(X_train)\n",
        "\n",
        "def preprocess(untokenized):\n",
        "  sequences = tokenizer.texts_to_sequences(untokenized)\n",
        "  sequence_matrix = tf.keras.preprocessing.sequence.pad_sequences(sequences, maxlen=200)\n",
        "\n",
        "  return sequence_matrix"
      ],
      "execution_count": null,
      "outputs": []
    },
    {
      "cell_type": "code",
      "metadata": {
        "colab_type": "code",
        "id": "mYUni7y3MR6I",
        "colab": {}
      },
      "source": [
        "def recall_m(y_true, y_pred):\n",
        "        true_positives = tf.keras.backend.sum(tf.keras.backend.round(tf.keras.backend.clip(y_true * y_pred, 0, 1)))\n",
        "        possible_positives = tf.keras.backend.sum(tf.keras.backend.round(tf.keras.backend.clip(y_true, 0, 1)))\n",
        "        recall = true_positives / (possible_positives + tf.keras.backend.epsilon())\n",
        "        return recall\n",
        "\n",
        "def precision_m(y_true, y_pred):\n",
        "        true_positives = tf.keras.backend.sum(tf.keras.backend.round(tf.keras.backend.clip(y_true * y_pred, 0, 1)))\n",
        "        predicted_positives = tf.keras.backend.sum(tf.keras.backend.round(tf.keras.backend.clip(y_pred, 0, 1)))\n",
        "        precision = true_positives / (predicted_positives + tf.keras.backend.epsilon())\n",
        "        return precision\n",
        "\n",
        "def f1_m(y_true, y_pred):\n",
        "    precision = precision_m(y_true, y_pred)\n",
        "    recall = recall_m(y_true, y_pred)\n",
        "    return 2*((precision*recall)/(precision+recall+tf.keras.backend.epsilon()))"
      ],
      "execution_count": null,
      "outputs": []
    },
    {
      "cell_type": "code",
      "metadata": {
        "id": "cr-k5_RM7s18",
        "colab_type": "code",
        "colab": {
          "base_uri": "https://localhost:8080/",
          "height": 306
        },
        "outputId": "4e7235f2-2440-4cf8-a17d-6c76412216ee"
      },
      "source": [
        "inputs = tf.keras.Input(shape=[200])\n",
        "model = tf.keras.layers.Embedding(12000, 100, input_length=150)(inputs)\n",
        "model = tf.keras.layers.LSTM(64, activation='tanh', return_sequences=True)(model)\n",
        "model = tf.keras.layers.LSTM(1, activation='sigmoid')(model)\n",
        "model = tf.keras.Model(inputs=inputs, outputs=model)\n",
        "\n",
        "model.compile(loss='binary_crossentropy', optimizer='adam', metrics=['accuracy', f1_m, tf.keras.metrics.AUC()])\n",
        "model.summary()"
      ],
      "execution_count": null,
      "outputs": [
        {
          "output_type": "stream",
          "text": [
            "WARNING:tensorflow:Layer lstm_2 will not use cuDNN kernel since it doesn't meet the cuDNN kernel criteria. It will use generic GPU kernel as fallback when running on GPU\n",
            "Model: \"model_1\"\n",
            "_________________________________________________________________\n",
            "Layer (type)                 Output Shape              Param #   \n",
            "=================================================================\n",
            "input_2 (InputLayer)         [(None, 200)]             0         \n",
            "_________________________________________________________________\n",
            "embedding_1 (Embedding)      (None, 200, 100)          1200000   \n",
            "_________________________________________________________________\n",
            "lstm_1 (LSTM)                (None, 200, 64)           42240     \n",
            "_________________________________________________________________\n",
            "lstm_2 (LSTM)                (None, 1)                 264       \n",
            "=================================================================\n",
            "Total params: 1,242,504\n",
            "Trainable params: 1,242,504\n",
            "Non-trainable params: 0\n",
            "_________________________________________________________________\n"
          ],
          "name": "stdout"
        }
      ]
    },
    {
      "cell_type": "code",
      "metadata": {
        "id": "uj6YdWQcLFg5",
        "colab_type": "code",
        "colab": {
          "base_uri": "https://localhost:8080/",
          "height": 323
        },
        "outputId": "49920c91-feab-4062-e55e-4389e7608af0"
      },
      "source": [
        "inputs = tf.keras.Input(shape=[200])\n",
        "model = tf.keras.layers.Embedding(12000, 100, input_length=150)(inputs)\n",
        "model = tf.keras.layers.LSTM(64, activation='tanh', return_sequences=True)(model)\n",
        "model = tf.keras.layers.LSTM(1, activation='tanh')(model)\n",
        "model = tf.keras.layers.Activation('sigmoid')(model)\n",
        "model = tf.keras.Model(inputs=inputs, outputs=model)\n",
        "\n",
        "model.compile(loss='binary_crossentropy', optimizer='adam', metrics=['accuracy', f1_m, tf.keras.metrics.AUC()])\n",
        "model.summary()"
      ],
      "execution_count": null,
      "outputs": [
        {
          "output_type": "stream",
          "text": [
            "Model: \"model_22\"\n",
            "_________________________________________________________________\n",
            "Layer (type)                 Output Shape              Param #   \n",
            "=================================================================\n",
            "input_23 (InputLayer)        [(None, 200)]             0         \n",
            "_________________________________________________________________\n",
            "embedding_22 (Embedding)     (None, 200, 100)          1200000   \n",
            "_________________________________________________________________\n",
            "lstm_28 (LSTM)               (None, 200, 64)           42240     \n",
            "_________________________________________________________________\n",
            "lstm_29 (LSTM)               (None, 1)                 264       \n",
            "_________________________________________________________________\n",
            "activation_2 (Activation)    (None, 1)                 0         \n",
            "=================================================================\n",
            "Total params: 1,242,504\n",
            "Trainable params: 1,242,504\n",
            "Non-trainable params: 0\n",
            "_________________________________________________________________\n"
          ],
          "name": "stdout"
        }
      ]
    },
    {
      "cell_type": "code",
      "metadata": {
        "id": "oSsBo41kNP1H",
        "colab_type": "code",
        "colab": {
          "base_uri": "https://localhost:8080/",
          "height": 289
        },
        "outputId": "02067b4e-d1f7-4cca-bd56-c03d056e7ac5"
      },
      "source": [
        "inputs = tf.keras.Input(shape=[200])\n",
        "model = tf.keras.layers.Embedding(12000, 100, input_length=150)(inputs)\n",
        "#model = tf.keras.layers.Dropout(0.5)(model)\n",
        "model = tf.keras.layers.LSTM(16, activation='tanh', return_sequences=False)(model) #32\n",
        "#model = tf.keras.layers.Dropout(0.5)(model)\n",
        "#model = tf.keras.layers.LSTM(1, activation='tanh')(model)\n",
        "#model = tf.keras.layers.Activation('sigmoid')(model)\n",
        "model = tf.keras.layers.Dense(1, activation='sigmoid')(model)\n",
        "model = tf.keras.Model(inputs=inputs, outputs=model)\n",
        "\n",
        "model.compile(loss='binary_crossentropy', optimizer='adam', metrics=['accuracy', f1_m, tf.keras.metrics.AUC()])\n",
        "model.summary()"
      ],
      "execution_count": null,
      "outputs": [
        {
          "output_type": "stream",
          "text": [
            "Model: \"model_2\"\n",
            "_________________________________________________________________\n",
            "Layer (type)                 Output Shape              Param #   \n",
            "=================================================================\n",
            "input_3 (InputLayer)         [(None, 200)]             0         \n",
            "_________________________________________________________________\n",
            "embedding_2 (Embedding)      (None, 200, 100)          1200000   \n",
            "_________________________________________________________________\n",
            "lstm_3 (LSTM)                (None, 16)                7488      \n",
            "_________________________________________________________________\n",
            "dense_1 (Dense)              (None, 1)                 17        \n",
            "=================================================================\n",
            "Total params: 1,207,505\n",
            "Trainable params: 1,207,505\n",
            "Non-trainable params: 0\n",
            "_________________________________________________________________\n"
          ],
          "name": "stdout"
        }
      ]
    },
    {
      "cell_type": "code",
      "metadata": {
        "id": "dBjeM5usFSKg",
        "colab_type": "code",
        "colab": {
          "base_uri": "https://localhost:8080/",
          "height": 374
        },
        "outputId": "6334c82e-67f7-4f4c-d62e-4b3140aca0dc"
      },
      "source": [
        "model.fit(preprocess(X_train), Y_train, batch_size=128, epochs=10, class_weight=weight_dict)\n",
        "#model.fit(X_train, Y_train, batch_size=128, epochs=10, class_weight=weight_dict)"
      ],
      "execution_count": null,
      "outputs": [
        {
          "output_type": "stream",
          "text": [
            "Epoch 1/10\n",
            "32/32 [==============================] - 2s 50ms/step - loss: 0.6871 - accuracy: 0.8575 - f1_m: 0.2500 - auc_2: 0.8162\n",
            "Epoch 2/10\n",
            "32/32 [==============================] - 2s 50ms/step - loss: 0.3346 - accuracy: 0.9392 - f1_m: 0.6720 - auc_2: 0.9751\n",
            "Epoch 3/10\n",
            "32/32 [==============================] - 2s 50ms/step - loss: 0.1747 - accuracy: 0.9858 - f1_m: 0.9376 - auc_2: 0.9973\n",
            "Epoch 4/10\n",
            "32/32 [==============================] - 2s 50ms/step - loss: 0.1107 - accuracy: 0.9940 - f1_m: 0.9746 - auc_2: 0.9995\n",
            "Epoch 5/10\n",
            "32/32 [==============================] - 2s 50ms/step - loss: 0.0769 - accuracy: 0.9970 - f1_m: 0.9878 - auc_2: 0.9999\n",
            "Epoch 6/10\n",
            "32/32 [==============================] - 2s 50ms/step - loss: 0.0542 - accuracy: 0.9980 - f1_m: 0.9922 - auc_2: 0.9999\n",
            "Epoch 7/10\n",
            "32/32 [==============================] - 2s 51ms/step - loss: 0.0395 - accuracy: 0.9992 - f1_m: 0.9974 - auc_2: 0.9999\n",
            "Epoch 8/10\n",
            "32/32 [==============================] - 2s 51ms/step - loss: 0.0298 - accuracy: 0.9992 - f1_m: 0.9972 - auc_2: 1.0000\n",
            "Epoch 9/10\n",
            "32/32 [==============================] - 2s 51ms/step - loss: 0.0233 - accuracy: 0.9992 - f1_m: 0.9962 - auc_2: 1.0000\n",
            "Epoch 10/10\n",
            "32/32 [==============================] - 2s 51ms/step - loss: 0.0183 - accuracy: 0.9992 - f1_m: 0.9975 - auc_2: 1.0000\n"
          ],
          "name": "stdout"
        },
        {
          "output_type": "execute_result",
          "data": {
            "text/plain": [
              "<tensorflow.python.keras.callbacks.History at 0x7f8a7e74ada0>"
            ]
          },
          "metadata": {
            "tags": []
          },
          "execution_count": 17
        }
      ]
    },
    {
      "cell_type": "code",
      "metadata": {
        "id": "4eWZe0tDHMTV",
        "colab_type": "code",
        "colab": {
          "base_uri": "https://localhost:8080/",
          "height": 102
        },
        "outputId": "f16b5dd2-556c-4982-e11a-d6addae7f2db"
      },
      "source": [
        "model.evaluate(preprocess(X_cv), Y_cv)\n",
        "#model.evaluate(X_cv, Y_cv)"
      ],
      "execution_count": null,
      "outputs": [
        {
          "output_type": "stream",
          "text": [
            "32/32 [==============================] - 0s 15ms/step - loss: 0.0590 - accuracy: 0.9850 - f1_m: 0.9153 - auc_2: 0.9879\n"
          ],
          "name": "stdout"
        },
        {
          "output_type": "execute_result",
          "data": {
            "text/plain": [
              "[0.05900684744119644,\n",
              " 0.9850000143051147,\n",
              " 0.9152867197990417,\n",
              " 0.9879451394081116]"
            ]
          },
          "metadata": {
            "tags": []
          },
          "execution_count": 18
        }
      ]
    },
    {
      "cell_type": "code",
      "metadata": {
        "id": "HA___5juKddV",
        "colab_type": "code",
        "colab": {
          "base_uri": "https://localhost:8080/",
          "height": 102
        },
        "outputId": "2dd85e67-e331-4c6b-8bb8-63009066fc4d"
      },
      "source": [
        "model.evaluate(preprocess(X_test), Y_test)\n",
        "#model.evaluate(X_test, Y_test)"
      ],
      "execution_count": null,
      "outputs": [
        {
          "output_type": "stream",
          "text": [
            "18/18 [==============================] - 0s 15ms/step - loss: 0.0562 - accuracy: 0.9878 - f1_m: 0.8901 - auc_2: 0.9916\n"
          ],
          "name": "stdout"
        },
        {
          "output_type": "execute_result",
          "data": {
            "text/plain": [
              "[0.056248318403959274,\n",
              " 0.9877622127532959,\n",
              " 0.8901469111442566,\n",
              " 0.9915608167648315]"
            ]
          },
          "metadata": {
            "tags": []
          },
          "execution_count": 19
        }
      ]
    },
    {
      "cell_type": "markdown",
      "metadata": {
        "id": "6hT2kHn3F3bh",
        "colab_type": "text"
      },
      "source": [
        "# Future work:\n",
        "-try transformer instead of LSTM"
      ]
    }
  ]
}